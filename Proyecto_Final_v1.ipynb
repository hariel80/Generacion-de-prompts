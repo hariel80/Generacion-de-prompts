{
 "cells": [
  {
   "cell_type": "markdown",
   "id": "23ecc22f-b71c-4f94-a293-78b1a30fe125",
   "metadata": {},
   "source": [
    "# Trabajo Final: Análisis y Resúmenes Automáticos de Noticias usando GPT y Técnicas de Prompting\n",
    "\n",
    "**Autor:** Ariel Agüero  \n",
    "**Nombre del curso:** Inteligencia Artificial: Generación de Prompts  \n",
    "**Comisión:** 67115  \n",
    "**Nombre del proyecto:** Análisis y Resúmenes Automáticos de Noticias usando GPT y Técnicas de Prompting  \n",
    "\n",
    "---\n",
    "\n",
    "## Resumen\n",
    " \n",
    "Este proyecto tiene como objetivo desarrollar un sistema que, a partir de noticias, pueda realizar resúmenes automáticos, clasificar sentimientos y generar análisis iterativos mediante técnicas avanzadas de prompting. El enfoque integra modelos GPT y herramientas específicas para la recuperación de información y análisis contextual.\n"
   ]
  },
  {
   "cell_type": "markdown",
   "id": "01be66eb-0746-4fa9-846c-adcc658fde1b",
   "metadata": {},
   "source": [
    "Indice \n",
    "\n",
    "1. Introducción\n",
    "2. Objetivos\n",
    "3. Metodología\n",
    "4. Herramientas y tecnología\n",
    "5. Implementación\n",
    "6. Resultados\n",
    "7. Conclusiones\n",
    "8. Referencias"
   ]
  },
  {
   "cell_type": "markdown",
   "id": "904c82f4-77d9-440d-8fc2-d36cbc655f38",
   "metadata": {},
   "source": [
    "1. Introducción"
   ]
  },
  {
   "cell_type": "markdown",
   "id": "3fe2c8e9-58e2-485c-9d7f-63b2039d2e1e",
   "metadata": {},
   "source": [
    "2. Objetivos\n",
    "\n",
    "Crear un sistema que permita:\n",
    "\n",
    "- **2.1** Resumir automáticamente artículos de las noticias relacionadas al tema que elegio el usuario de las ultimas 72 horas.  \n",
    "- **2.2** Clasificar el sentimiento del contenido.\n",
    "- **2.3** Generar etiquetas relevantes para cada noticia.\n",
    "- **2.4** Genera una tabla con pandas en donde indique el titulo,fecha de publicación, hora de publicasción y cantidad de carácteres de cada noticia \n",
    "- **2.5** Generar un grafo para tener un resumen visual.\n",
    "- **2.6** Hacer preguntas iterativas para profundizar en el análisis de una noticia.\n"
   ]
  },
  {
   "cell_type": "markdown",
   "id": "6d304b80-9ee5-4297-b232-107d38920e66",
   "metadata": {},
   "source": [
    "3. Metodología\n",
    "\n",
    "- **3.1** One-shot prompting para la generación de resúmenes.\n",
    "- **3.2** Few-shot prompting para clasificar sentimientos con ejemplos previos.\n",
    "- **3.3** Prompt iterativo para afinar las consultas.\n",
    "- **3.4** Pandas para analisis de datos\n",
    "- **3.5** Gráficos de conocimiento para representaciónes visuales  \n",
    "- **3.6** Función calling para interactuar con funciones predefinidas (como extraer nombres de personas, lugares o fechas).\n"
   ]
  },
  {
   "cell_type": "markdown",
   "id": "419bd505-b020-4b04-8dca-b44785d17257",
   "metadata": {},
   "source": [
    "4. Herramientas y tecnología\n",
    "\n",
    "- **4.1** Python\n",
    "- **4.2** OpenAI\n",
    "- **4.3** NewsAPI\n",
    "- **4.4** Pandas"
   ]
  },
  {
   "cell_type": "markdown",
   "id": "5cdadf46-e1c4-4713-868a-8cb8d66e1e9f",
   "metadata": {},
   "source": [
    "5. Implementación"
   ]
  },
  {
   "cell_type": "markdown",
   "id": "434781af-9466-439b-9d0f-74637306f9ad",
   "metadata": {},
   "source": [
    "5.1 Import openAI dependences (load with conda install openai)"
   ]
  },
  {
   "cell_type": "code",
   "execution_count": 42,
   "id": "e27a46e4-c69b-405a-ae56-bd0f2a4078e4",
   "metadata": {},
   "outputs": [],
   "source": [
    "#Imports \n",
    "import requests\n",
    "import openai\n",
    "from datetime import datetime, timedelta\n"
   ]
  },
  {
   "cell_type": "markdown",
   "id": "8a4082c4-e471-4166-9c2a-201c5fc35acf",
   "metadata": {},
   "source": [
    "5.2 Use the API Key"
   ]
  },
  {
   "cell_type": "code",
   "execution_count": 46,
   "id": "ab115e36-6dc2-4109-a3a7-232272932a7f",
   "metadata": {},
   "outputs": [],
   "source": [
    "NEWS_API_KEY = \"\"\n",
    "openai.api_key = \"\""
   ]
  },
  {
   "cell_type": "markdown",
   "id": "85689c9c-4e85-48cc-98ec-11b30e549e6a",
   "metadata": {},
   "source": [
    "5.3 Obtención de las noticias"
   ]
  },
  {
   "cell_type": "code",
   "execution_count": 47,
   "id": "5a0a7eb8-0a76-4f12-83f8-2629162d61cc",
   "metadata": {},
   "outputs": [
    {
     "name": "stdin",
     "output_type": "stream",
     "text": [
      "Introduce el tema de interés de Argentina:  historia\n"
     ]
    },
    {
     "name": "stdout",
     "output_type": "stream",
     "text": [
      "\n",
      "Noticias encontradas:\n",
      "1. Este era el día a día en la corte del Generalísimo: entre el Palacio de El Pardo y el Pazo de Meirás (2024-12-17T16:00:00Z) (http://www.muyinteresante.com/historia/este-era-el-dia-a-dia-en-la-corte-del-generalisimo-entre-el-palacio-de-el-pardo-y-el-pazo-de-meiras.html)\n",
      "2. Ángel Di María y su verdad tras 20 años de fútbol: \"Somos el hijo de pu** que se lesiona, que no quiere jugar finales\" (2024-12-18T07:05:08Z) (https://www.marca.com/futbol/liga-portuguesa/2024/12/18/angel-di-maria-verdad-20-anos-futbol-hijo-pu-lesiona-quiere-jugar-finales.html)\n",
      "3. Atlético, 11 razones para creer... y creer (2024-12-16T19:59:17Z) (https://www.marca.com/futbol/atletico/2024/12/16/atletico-11-razones-creer-creer.html)\n",
      "4. Coello ante su gran reto (2024-12-17T16:00:33Z) (https://www.marca.com/padel/2024/12/17/coello-gran-reto.html)\n",
      "5. Ancelotti ganador del Premio The Best al Mejor Entrenador de la FIFA 2024 (2024-12-17T17:52:01Z) (https://www.marca.com/futbol/premios-the-best/2024/12/17/ancelotti-ganador-premio-the-best-mejor-entrenador-fifa-2024.html)\n",
      "\n",
      "Procesando noticias con OpenAI...\n",
      "\n",
      "Resultados:\n",
      "1. Este era el día a día en la corte del Generalísimo: entre el Palacio de El Pardo y el Pazo de Meirás\n",
      "   Resumen: El artículo describe la cotidianidad en la corte del Generalísimo Franco, donde se creó un ambiente similar a las monarquías absolutistas, con Franco y sus allegados como el centro de poder, mientras la población española sufría represión y dificultades.\n",
      "   Sentimiento: Negativo\n",
      "   Fecha de publicación: 2024-12-17T16:00:00Z\n",
      "   URL: http://www.muyinteresante.com/historia/este-era-el-dia-a-dia-en-la-corte-del-generalisimo-entre-el-palacio-de-el-pardo-y-el-pazo-de-meiras.html\n",
      "2. Ángel Di María y su verdad tras 20 años de fútbol: \"Somos el hijo de pu** que se lesiona, que no quiere jugar finales\"\n",
      "   Resumen: El jugador argentino Ángel Di María reflexiona sobre su carrera de 20 años en el fútbol, hablando sobre sus logros con la selección argentina, su retirada del equipo nacional, el apoyo de su familia, sus experiencias en clubes como Rosario, Real Madrid, Manchester United, PSG y Juventus, y su opinión sobre jugadores como Lionel Messi y Diego Maradona. Destaca su determinación en enfrentar lesiones y jugar\n",
      "   Sentimiento: El sentimiento del artículo es Negativo.\n",
      "   Fecha de publicación: 2024-12-18T07:05:08Z\n",
      "   URL: https://www.marca.com/futbol/liga-portuguesa/2024/12/18/angel-di-maria-verdad-20-anos-futbol-hijo-pu-lesiona-quiere-jugar-finales.html\n",
      "3. Atlético, 11 razones para creer... y creer\n",
      "   Resumen: El Atlético de Madrid ha demostrado un buen rendimiento desde su derrota ante Lille y Betis, mostrándose intratable en resultados. Aquí te damos 11 razones para creer en el equipo.\n",
      "   Sentimiento: Positivo\n",
      "   Fecha de publicación: 2024-12-16T19:59:17Z\n",
      "   URL: https://www.marca.com/futbol/atletico/2024/12/16/atletico-11-razones-creer-creer.html\n",
      "4. Coello ante su gran reto\n",
      "   Resumen: Resumen: A pesar de haber ganado todos los trofeos en su carrera, Coello nunca ha logrado convertirse en Maestro, lo cual ahora se presenta como su próximo gran desafío.\n",
      "   Sentimiento: Neutral.\n",
      "   Fecha de publicación: 2024-12-17T16:00:33Z\n",
      "   URL: https://www.marca.com/padel/2024/12/17/coello-gran-reto.html\n",
      "5. Ancelotti ganador del Premio The Best al Mejor Entrenador de la FIFA 2024\n",
      "   Resumen: Ancelotti ha sido premiado como el Mejor Entrenador de la FIFA en 2024 después de obtener importantes logros con el Real Madrid, incluyendo la Liga, la Champions y la Supercopa de España.\n",
      "   Sentimiento: Positivo\n",
      "   Fecha de publicación: 2024-12-17T17:52:01Z\n",
      "   URL: https://www.marca.com/futbol/premios-the-best/2024/12/17/ancelotti-ganador-premio-the-best-mejor-entrenador-fifa-2024.html\n"
     ]
    }
   ],
   "source": [
    "# Función para obtener noticias populares de Argentina\n",
    "def obtener_noticias_argentina_populares(tema, numero_resultados=5):\n",
    "    # Rango de los últimos 3 días\n",
    "    fecha_hoy = datetime.now()\n",
    "    fecha_inicio = (fecha_hoy - timedelta(days=3)).strftime('%Y-%m-%d')\n",
    "    fecha_fin = fecha_hoy.strftime('%Y-%m-%d')\n",
    "    \n",
    "    # Endpoint de NewsAPI\n",
    "    url = (\n",
    "        f\"https://newsapi.org/v2/everything?\"\n",
    "        f\"q={tema} AND Argentina&\"\n",
    "        f\"language=es&\"\n",
    "        f\"from={fecha_inicio}&to={fecha_fin}&\"\n",
    "        f\"sortBy=popularity&\"\n",
    "        f\"pageSize={numero_resultados}&\"\n",
    "        f\"apiKey={NEWS_API_KEY}\"\n",
    "    )\n",
    "    \n",
    "    response = requests.get(url)\n",
    "    if response.status_code == 200:\n",
    "        data = response.json()\n",
    "        articulos = data.get(\"articles\", [])\n",
    "        return [(art[\"title\"], art[\"description\"], art[\"url\"], art[\"publishedAt\"]) for art in articulos]\n",
    "    else:\n",
    "        print(f\"Error al obtener noticias: {response.status_code}\")\n",
    "        return []\n",
    "\n",
    "# Función para procesar noticias con OpenAI\n",
    "def procesar_noticias(articulos):\n",
    "    resultados = []\n",
    "    for titulo, descripcion, url, fecha in articulos:\n",
    "        # Prompt para generar un resumen en español\n",
    "        prompt_resumen = f\"\"\"\n",
    "        Título: {titulo}\n",
    "        Descripción: {descripcion}\n",
    "\n",
    "        Por favor, genera un resumen conciso en español del contenido del artículo.\n",
    "        \"\"\"\n",
    "        response_resumen = openai.ChatCompletion.create(\n",
    "            model=\"gpt-3.5-turbo\",\n",
    "            messages=[{\"role\": \"user\", \"content\": prompt_resumen}],\n",
    "            max_tokens=100\n",
    "        )\n",
    "        resumen = response_resumen.choices[0]['message']['content']\n",
    "        \n",
    "        # Prompt para clasificar el sentimiento en español\n",
    "        prompt_sentimiento = f\"\"\"\n",
    "        Título: {titulo}\n",
    "        Resumen: {resumen}\n",
    "\n",
    "        Clasifica el sentimiento del artículo como Positivo, Negativo o Neutral. Responde en español.\n",
    "        \"\"\"\n",
    "        response_sentimiento = openai.ChatCompletion.create(\n",
    "            model=\"gpt-3.5-turbo\",\n",
    "            messages=[{\"role\": \"user\", \"content\": prompt_sentimiento}],\n",
    "            max_tokens=50\n",
    "        )\n",
    "        sentimiento = response_sentimiento.choices[0]['message']['content'].strip()\n",
    "        \n",
    "        resultados.append((titulo, resumen, sentimiento, url, fecha))\n",
    "    return resultados\n",
    "\n",
    "# Main: Integra búsqueda de noticias con procesamiento\n",
    "if __name__ == \"__main__\":\n",
    "    tema = input(\"Introduce el tema de interés de Argentina: \")\n",
    "    \n",
    "    # Obtener noticias populares de Argentina en español\n",
    "    noticias = obtener_noticias_argentina_populares(tema)\n",
    "    if not noticias:\n",
    "        print(\"No se encontraron noticias.\")\n",
    "    else:\n",
    "        print(\"\\nNoticias encontradas:\")\n",
    "        for idx, (titulo, _, url, fecha) in enumerate(noticias, 1):\n",
    "            print(f\"{idx}. {titulo} ({fecha}) ({url})\")\n",
    "        \n",
    "        # Procesar noticias\n",
    "        print(\"\\nProcesando noticias con OpenAI...\")\n",
    "        resultados = procesar_noticias(noticias)\n",
    "        \n",
    "        # Mostrar resultados\n",
    "        print(\"\\nResultados:\")\n",
    "        for idx, (titulo, resumen, sentimiento, url, fecha) in enumerate(resultados, 1):\n",
    "            print(f\"{idx}. {titulo}\")\n",
    "            print(f\"   Resumen: {resumen}\")\n",
    "            print(f\"   Sentimiento: {sentimiento}\")\n",
    "            print(f\"   Fecha de publicación: {fecha}\")\n",
    "            print(f\"   URL: {url}\")\n"
   ]
  },
  {
   "cell_type": "markdown",
   "id": "ef60b98d-45f7-4c70-88f6-7534b3042e17",
   "metadata": {},
   "source": [
    "5.4 Visualización del titulo, fecha de publicación, hora de publicación y cantidad de carácteres"
   ]
  },
  {
   "cell_type": "code",
   "execution_count": 48,
   "id": "e9e52f6d",
   "metadata": {},
   "outputs": [
    {
     "name": "stdout",
     "output_type": "stream",
     "text": [
      "\n",
      "Noticias publicadas en las últimas 72 horas:\n",
      "                                              Título fecha_publicacion  \\\n",
      "0  Este era el día a día en la corte del Generalí...        2024-12-17   \n",
      "1  Ángel Di María y su verdad tras 20 años de fút...        2024-12-18   \n",
      "2         Atlético, 11 razones para creer... y creer        2024-12-16   \n",
      "3                           Coello ante su gran reto        2024-12-17   \n",
      "4  Ancelotti ganador del Premio The Best al Mejor...        2024-12-17   \n",
      "\n",
      "  hora_publicacion  cantidad_caracteres  \n",
      "0            16:00                  354  \n",
      "1            07:05                  526  \n",
      "2            19:59                  222  \n",
      "3            16:00                  193  \n",
      "4            17:52                  260  \n"
     ]
    }
   ],
   "source": [
    "from datetime import datetime, timedelta\n",
    "import pandas as pd\n",
    "\n",
    "# Convertir resultados a DataFrame\n",
    "def resultados_a_dataframe(resultados):\n",
    "    df = pd.DataFrame(resultados, columns=[\"Título\", \"Resumen\", \"Sentimiento\", \"URL\", \"Fecha\"])\n",
    "    return df\n",
    "\n",
    "# Análisis con formato personalizado\n",
    "def analizar_noticias(df):\n",
    "    # Convertir la columna \"Fecha\" a datetime\n",
    "    df[\"Fecha\"] = pd.to_datetime(df[\"Fecha\"])\n",
    "\n",
    "    # Asegurarnos de que las fechas sean comparables\n",
    "    now = datetime.now().astimezone()\n",
    "    noticias_recientes = df[df[\"Fecha\"] > (now - timedelta(days=3))].copy()\n",
    "\n",
    "    # Separar fecha y hora de publicación\n",
    "    noticias_recientes[\"fecha_publicacion\"] = noticias_recientes[\"Fecha\"].dt.date\n",
    "    noticias_recientes[\"hora_publicacion\"] = noticias_recientes[\"Fecha\"].dt.strftime(\"%H:%M\")\n",
    "\n",
    "    # Calcular la cantidad de caracteres en cada noticia (título + resumen)\n",
    "    noticias_recientes[\"cantidad_caracteres\"] = (\n",
    "        noticias_recientes[\"Título\"].str.len() + noticias_recientes[\"Resumen\"].str.len()\n",
    "    )\n",
    "\n",
    "    # Seleccionar y reordenar las columnas\n",
    "    noticias_recientes = noticias_recientes[\n",
    "        [\"Título\", \"fecha_publicacion\", \"hora_publicacion\", \"cantidad_caracteres\"]\n",
    "    ]\n",
    "\n",
    "    print(\"\\nNoticias publicadas en las últimas 72 horas:\")\n",
    "    if not noticias_recientes.empty:\n",
    "        print(noticias_recientes)\n",
    "    else:\n",
    "        print(\"No hay noticias publicadas en las últimas 72 horas.\")\n",
    "\n",
    "# Crear DataFrame y analizar\n",
    "df_resultados = resultados_a_dataframe(resultados)\n",
    "analizar_noticias(df_resultados)\n"
   ]
  },
  {
   "cell_type": "markdown",
   "id": "f255626e-4257-41bd-9cde-6de4684ef6a8",
   "metadata": {},
   "source": [
    "5.5 Generar etiquetas para cada noticia"
   ]
  },
  {
   "cell_type": "code",
   "execution_count": 49,
   "id": "72449eb5",
   "metadata": {},
   "outputs": [
    {
     "name": "stdout",
     "output_type": "stream",
     "text": [
      "\n",
      "Etiquetas generadas para las noticias:\n",
      "                                              Título  \\\n",
      "0  Este era el día a día en la corte del Generalí...   \n",
      "1  Ángel Di María y su verdad tras 20 años de fút...   \n",
      "2         Atlético, 11 razones para creer... y creer   \n",
      "3                           Coello ante su gran reto   \n",
      "4  Ancelotti ganador del Premio The Best al Mejor...   \n",
      "\n",
      "                        Etiqueta  \n",
      "0            DictaduraFranquista  \n",
      "1                       Deportes  \n",
      "2                #AtléticoMadrid  \n",
      "3                 #CoelloMaestro  \n",
      "4  #AncelottiMejorEntrenadorFIFA  \n"
     ]
    }
   ],
   "source": [
    "import pandas as pd\n",
    "\n",
    "# Función para generar una etiqueta relevante usando GPT\n",
    "def generar_etiquetas(resultados):\n",
    "    etiquetas_resultados = []\n",
    "    for titulo, resumen, _, _, _ in resultados:\n",
    "        prompt_etiqueta = f\"\"\"\n",
    "        Título: {titulo}\n",
    "        Resumen: {resumen}\n",
    "\n",
    "        Por favor, genera una única etiqueta relevante para esta noticia en español.\n",
    "        \"\"\"\n",
    "        response_etiqueta = openai.ChatCompletion.create(\n",
    "            model=\"gpt-3.5-turbo\",\n",
    "            messages=[{\"role\": \"user\", \"content\": prompt_etiqueta}],\n",
    "            max_tokens=20  # Reducido para una sola etiqueta\n",
    "        )\n",
    "        etiqueta = response_etiqueta.choices[0]['message']['content'].strip()\n",
    "        etiquetas_resultados.append({\"Título\": titulo, \"Etiqueta\": etiqueta})\n",
    "    return etiquetas_resultados\n",
    "\n",
    "# Generar etiquetas\n",
    "etiquetas_resultados = generar_etiquetas(resultados)\n",
    "\n",
    "# Convertir a DataFrame para una salida tabular\n",
    "df_etiquetas = pd.DataFrame(etiquetas_resultados)\n",
    "\n",
    "# Mostrar el DataFrame\n",
    "print(\"\\nEtiquetas generadas para las noticias:\")\n",
    "print(df_etiquetas)\n"
   ]
  },
  {
   "cell_type": "markdown",
   "id": "40e8312c-aed3-4e6c-895d-86790be9c7bd",
   "metadata": {},
   "source": [
    "5.6 Generación del grafo "
   ]
  },
  {
   "cell_type": "code",
   "execution_count": 50,
   "id": "0689ac88",
   "metadata": {},
   "outputs": [
    {
     "data": {
      "image/png": "[encoded data removed]",
      "text/plain": [
       "<Figure size 640x480 with 1 Axes>"
      ]
     },
     "metadata": {},
     "output_type": "display_data"
    }
   ],
   "source": [
    "import networkx as nx\n",
    "import matplotlib.pyplot as plt\n",
    "import pandas as pd\n",
    "\n",
    "# Función para crear grafo de conocimiento\n",
    "def crear_grafo_conocimiento(resultados, df_etiquetas):\n",
    "    G = nx.DiGraph()\n",
    "\n",
    "    # Nodo central\n",
    "    G.add_node(\"Argentina\", etiqueta=\"Argentina\")\n",
    "\n",
    "    # Verificar la longitud de las listas\n",
    "    if len(resultados) != len(df_etiquetas):\n",
    "        print(f\"Advertencia: Los datos no coinciden en longitud. Noticias: {len(resultados)}, Etiquetas: {len(df_etiquetas)}\")\n",
    "        # Asegurarse de que las etiquetas y resultados coincidan en tamaño\n",
    "        min_len = min(len(resultados), len(df_etiquetas))\n",
    "        resultados = resultados[:min_len]\n",
    "        df_etiquetas = df_etiquetas[:min_len]\n",
    "\n",
    "    # Crear nodos y relaciones\n",
    "    for (titulo, resumen, sentimiento, _, _), etiqueta in zip(resultados, df_etiquetas[\"Etiqueta\"]):\n",
    "        # Nodos principales con etiquetas generadas\n",
    "        G.add_node(titulo, etiqueta=etiqueta)\n",
    "\n",
    "        # Agregar relaciones con el sentimiento como etiqueta\n",
    "        G.add_edge(\"Argentina\", titulo, relacion=sentimiento)\n",
    "\n",
    "    return G\n",
    "\n",
    "# Visualizar el grafo con etiquetas pequeñas\n",
    "def visualizar_grafo(G):\n",
    "    pos = nx.spring_layout(G)\n",
    "    labels = nx.get_node_attributes(G, 'etiqueta')  # Usar las etiquetas personalizadas\n",
    "    edge_labels = nx.get_edge_attributes(G, 'relacion')  # Obtener etiquetas de las relaciones\n",
    "\n",
    "    # Dibujar nodos y aristas\n",
    "    nx.draw(\n",
    "        G, pos, with_labels=True, labels=labels, \n",
    "        node_color=\"lightblue\", edge_color=\"gray\", \n",
    "        font_size=8  # Tamaño reducido de etiquetas\n",
    "    )\n",
    "    nx.draw_networkx_edge_labels(G, pos, edge_labels=edge_labels, font_color=\"red\", font_size=8)\n",
    "    plt.title(\"Grafo de Conocimiento de Noticias\")\n",
    "    plt.show()\n",
    "\n",
    "# Asegúrate de que `resultados` y `df_etiquetas` tengan los datos reales antes de ejecutar\n",
    "grafo = crear_grafo_conocimiento(resultados, df_etiquetas)\n",
    "visualizar_grafo(grafo)\n"
   ]
  },
  {
   "cell_type": "markdown",
   "id": "27b8df67-f4f2-43d8-979d-9b86469f33b3",
   "metadata": {},
   "source": [
    "5.7 Preguntas iterativas "
   ]
  },
  {
   "cell_type": "code",
   "execution_count": 9,
   "id": "7b343f43",
   "metadata": {},
   "outputs": [
    {
     "name": "stdout",
     "output_type": "stream",
     "text": [
      "\n",
      "Exploración iterativa de noticias:\n",
      "1. Este era el día a día en la corte del Generalísimo: entre el Palacio de El Pardo y el Pazo de Meirás\n",
      "2. Ancelotti ganador del Premio The Best al Mejor Entrenador de la FIFA 2024\n",
      "3. El Interclubes de Primera División de la AAT: de la mano de la familia Cerúndolo, el Club Belgrano se consagró campeón\n",
      "4. La continuidad del boxeo como deporte Olímpico pasa por Lima\n",
      "5. Adeslas, el corazón del pádel\n"
     ]
    },
    {
     "name": "stdin",
     "output_type": "stream",
     "text": [
      "\n",
      "Selecciona el número de la noticia que quieres analizar:  2\n"
     ]
    },
    {
     "name": "stdout",
     "output_type": "stream",
     "text": [
      "\n",
      "Noticia seleccionada:\n",
      "Título: Ancelotti ganador del Premio The Best al Mejor Entrenador de la FIFA 2024\n",
      "Resumen: Ancelotti ha sido galardonado con el Premio The Best al Mejor Entrenador de la FIFA 2024 por sus logros con el Real Madrid, incluyendo la Liga, la Champions y la Supercopa de España.\n"
     ]
    },
    {
     "name": "stdin",
     "output_type": "stream",
     "text": [
      "\n",
      "Escribe una pregunta sobre esta noticia (o 'salir' para terminar):  ¿quien es acelotti?\n"
     ]
    },
    {
     "name": "stdout",
     "output_type": "stream",
     "text": [
      "\n",
      "Respuesta: Ancelotti es un famoso entrenador de fútbol que ha sido galardonado con el Premio The Best al Mejor Entrenador de la FIFA 2024 por sus logros con el Real Madrid. Ha logrado importantes títulos como la Liga, la Champions y la Supercopa de España.\n"
     ]
    },
    {
     "name": "stdin",
     "output_type": "stream",
     "text": [
      "\n",
      "Escribe una pregunta sobre esta noticia (o 'salir' para terminar):  cuantos años tiene \n"
     ]
    },
    {
     "name": "stdout",
     "output_type": "stream",
     "text": [
      "\n",
      "Respuesta: En el contenido de la noticia no se menciona la edad de Ancelotti.\n"
     ]
    },
    {
     "name": "stdin",
     "output_type": "stream",
     "text": [
      "\n",
      "Escribe una pregunta sobre esta noticia (o 'salir' para terminar):  tiene pareja \n"
     ]
    },
    {
     "name": "stdout",
     "output_type": "stream",
     "text": [
      "\n",
      "Respuesta: Lo siento, pero la noticia no proporciona información sobre la vida personal de Ancelotti, como si tiene pareja o no. La noticia se centra en su logro como entrenador y en los títulos que ha conseguido con el Real Madrid.\n"
     ]
    },
    {
     "name": "stdin",
     "output_type": "stream",
     "text": [
      "\n",
      "Escribe una pregunta sobre esta noticia (o 'salir' para terminar):  cuantos titulos gano acenlotti en el real madrid \n"
     ]
    },
    {
     "name": "stdout",
     "output_type": "stream",
     "text": [
      "\n",
      "Respuesta: Ancelotti ganó la Liga, la Champions y la Supercopa de España con el Real Madrid, por lo tanto, ganó un total de 3 títulos durante su tiempo como entrenador en el club.\n"
     ]
    },
    {
     "name": "stdin",
     "output_type": "stream",
     "text": [
      "\n",
      "Escribe una pregunta sobre esta noticia (o 'salir' para terminar):  Real madrid es de espana\n"
     ]
    },
    {
     "name": "stdout",
     "output_type": "stream",
     "text": [
      "\n",
      "Respuesta: Sí, según la noticia, el Real Madrid es de España, ya que se menciona que Ancelotti ha sido galardonado por sus logros con el Real Madrid, incluyendo la Liga, la Champions y la Supercopa de España.\n"
     ]
    },
    {
     "name": "stdin",
     "output_type": "stream",
     "text": [
      "\n",
      "Escribe una pregunta sobre esta noticia (o 'salir' para terminar):  salir\n"
     ]
    },
    {
     "name": "stdout",
     "output_type": "stream",
     "text": [
      "Análisis iterativo finalizado.\n"
     ]
    }
   ],
   "source": [
    "# Función para hacer preguntas iterativas sobre una noticia\n",
    "def preguntas_iterativas(resultados):\n",
    "    print(\"\\nExploración iterativa de noticias:\")\n",
    "    for idx, (titulo, resumen, _, _, _) in enumerate(resultados, 1):salirs\n",
    "        print(f\"{idx}. {titulo}\")\n",
    "\n",
    "    # Seleccionar una noticia\n",
    "    seleccion = int(input(\"\\nSelecciona el número de la noticia que quieres analizar: \"))\n",
    "    titulo, resumen, _, _, _ = resultados[seleccion - 1]\n",
    "\n",
    "    print(f\"\\nNoticia seleccionada:\\nTítulo: {titulo}\\nResumen: {resumen}\")\n",
    "\n",
    "    while True:\n",
    "        pregunta = input(\"\\nEscribe una pregunta sobre esta noticia (o 'salir' para terminar): \")\n",
    "        if pregunta.lower() == \"salir\":\n",
    "            print(\"Análisis iterativo finalizado.\")\n",
    "            break\n",
    "\n",
    "        prompt_pregunta = f\"\"\"\n",
    "        Título: {titulo}\n",
    "        Resumen: {resumen}\n",
    "\n",
    "        Pregunta: {pregunta}\n",
    "\n",
    "        Por favor, responde la pregunta basada en el contenido de la noticia.\n",
    "        \"\"\"\n",
    "        response_pregunta = openai.ChatCompletion.create(\n",
    "            model=\"gpt-3.5-turbo\",\n",
    "            messages=[{\"role\": \"user\", \"content\": prompt_pregunta}],\n",
    "            max_tokens=150\n",
    "        )\n",
    "        respuesta = response_pregunta.choices[0]['message']['content'].strip()\n",
    "        print(f\"\\nRespuesta: {respuesta}\")\n",
    "\n",
    "# Iniciar preguntas iterativas\n",
    "preguntas_iterativas(resultados)"
   ]
  },
  {
   "cell_type": "markdown",
   "id": "d58ecafa-298a-4caf-8c38-9608390b5c59",
   "metadata": {},
   "source": [
    "## 6. Resultados\n",
    "\n",
    "Cada resultado ahora contiene:\n",
    "\n",
    "- **Titulo,resumen, clasificación de sentimiento de las noticias relacioandas a lo que elegió el usuario de las ultimoas 72 horas**\n",
    "- **Titulo, fecha de publicación, hora de publicación y cantidad de caracteres de cada noticia**\n",
    "- **Generación de etiquetas para cada noticia**\n",
    "- **Grafo de conocimiento**\n",
    "- **Preguntas y respuestas iterativas**"
   ]
  },
  {
   "cell_type": "code",
   "execution_count": null,
   "id": "a14c815b-ac09-4e8c-b98e-940a92f31fc2",
   "metadata": {},
   "outputs": [],
   "source": []
  }
 ],
 "metadata": {
  "kernelspec": {
   "display_name": "Python 3 (ipykernel)",
   "language": "python",
   "name": "python3"
  },
  "language_info": {
   "codemirror_mode": {
    "name": "ipython",
    "version": 3
   },
   "file_extension": ".py",
   "mimetype": "text/x-python",
   "name": "python",
   "nbconvert_exporter": "python",
   "pygments_lexer": "ipython3",
   "version": "3.10.15"
  }
 },
 "nbformat": 4,
 "nbformat_minor": 5
}
