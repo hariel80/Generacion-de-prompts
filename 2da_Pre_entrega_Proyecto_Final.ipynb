{
 "cells": [
  {
   "cell_type": "markdown",
   "id": "23ecc22f-b71c-4f94-a293-78b1a30fe125",
   "metadata": {},
   "source": [
    "# Trabajo Final: Análisis y Resúmenes Automáticos de Noticias usando GPT y Técnicas de Prompting\n",
    "\n",
    "**Autor:** Ariel Agüero  \n",
    "**Nombre del curso:** Inteligencia Artificial: Generación de Prompts  \n",
    "**Comisión:** 67115  \n",
    "**Nombre del proyecto:** Análisis y Resúmenes Automáticos de Noticias usando GPT y Técnicas de Prompting  \n",
    "\n",
    "---\n",
    "\n",
    "## Resumen\n",
    " \n",
    "Este proyecto tiene como objetivo desarrollar un sistema que, a partir de noticias, pueda realizar resúmenes automáticos, clasificar sentimientos y generar análisis iterativos mediante técnicas avanzadas de prompting. El enfoque integra modelos GPT y herramientas específicas para la recuperación de información y análisis contextual.\n"
   ]
  },
  {
   "cell_type": "markdown",
   "id": "01be66eb-0746-4fa9-846c-adcc658fde1b",
   "metadata": {},
   "source": [
    "Indice \n",
    "\n",
    "1. Introducción\n",
    "2. Objetivos\n",
    "3. Metodología\n",
    "4. Herramientas y tecnología\n",
    "5. Implementación\n",
    "6. Resultados\n",
    "7. Conclusiones\n",
    "8. Referencias"
   ]
  },
  {
   "cell_type": "markdown",
   "id": "904c82f4-77d9-440d-8fc2-d36cbc655f38",
   "metadata": {},
   "source": [
    "1. Introducción"
   ]
  },
  {
   "cell_type": "markdown",
   "id": "3fe2c8e9-58e2-485c-9d7f-63b2039d2e1e",
   "metadata": {},
   "source": [
    "2. Objetivos\n",
    "\n",
    "Crear un sistema que permita:\n",
    "\n",
    "- **2.1** Resumir automáticamente artículos de noticias.\n",
    "- **2.2** Clasificar el sentimiento del contenido.\n",
    "- **2.3** Generar etiquetas relevantes. (Aún falta)\n",
    "- **2.4** Hacer preguntas iterativas para profundizar en el análisis de una noticia. (Aún falta)\n"
   ]
  },
  {
   "cell_type": "markdown",
   "id": "6d304b80-9ee5-4297-b232-107d38920e66",
   "metadata": {},
   "source": [
    "3. Metodología\n",
    "\n",
    "- **3.1** One-shot prompting para la generación de resúmenes.\n",
    "- **3.2** Few-shot prompting para clasificar sentimientos con ejemplos previos.\n",
    "- **3.3** Prompt iterativo para afinar las consultas.\n",
    "- **3.4** Función calling para interactuar con funciones predefinidas (como extraer nombres de personas, lugares o fechas).\n"
   ]
  },
  {
   "cell_type": "markdown",
   "id": "419bd505-b020-4b04-8dca-b44785d17257",
   "metadata": {},
   "source": [
    "4. Herramientas y tecnología\n",
    "\n",
    "- **4.1** Python\n",
    "- **4.2** OpenAI\n",
    "- **4.3** NewsAPI\n",
    "\n",
    " "
   ]
  },
  {
   "cell_type": "markdown",
   "id": "5cdadf46-e1c4-4713-868a-8cb8d66e1e9f",
   "metadata": {},
   "source": [
    "5. Implementación"
   ]
  },
  {
   "cell_type": "markdown",
   "id": "434781af-9466-439b-9d0f-74637306f9ad",
   "metadata": {},
   "source": [
    "5.1 Import openAI dependences (load with conda install openai)"
   ]
  },
  {
   "cell_type": "code",
   "execution_count": 6,
   "id": "e27a46e4-c69b-405a-ae56-bd0f2a4078e4",
   "metadata": {},
   "outputs": [],
   "source": [
    "#Imports \n",
    "import requests\n",
    "import openai\n",
    "from datetime import datetime, timedelta\n"
   ]
  },
  {
   "cell_type": "markdown",
   "id": "8a4082c4-e471-4166-9c2a-201c5fc35acf",
   "metadata": {},
   "source": [
    "5.2 Use the API Key"
   ]
  },
  {
   "cell_type": "code",
   "execution_count": 7,
   "id": "ab115e36-6dc2-4109-a3a7-232272932a7f",
   "metadata": {},
   "outputs": [],
   "source": [
    "NEWS_API_KEY = \"\"\n",
    "openai.api_key = \"\" #Example -> dw-bQyr9128F49VJRNKAnST32lbkFJ2Zv4qEhWo4R0Xh6yrh15"
   ]
  },
  {
   "cell_type": "code",
   "execution_count": 10,
   "id": "5a0a7eb8-0a76-4f12-83f8-2629162d61cc",
   "metadata": {},
   "outputs": [
    {
     "name": "stdin",
     "output_type": "stream",
     "text": [
      "Introduce el tema de interés:  Autos\n"
     ]
    },
    {
     "name": "stdout",
     "output_type": "stream",
     "text": [
      "\n",
      "Noticias encontradas:\n",
      "1. Qué se siente manejar el Toyota Corolla Cross híbrido (2024-11-28T22:45:28Z) (https://www.lanacion.com.ar/autos/que-se-siente-manejar-el-toyota-corolla-cross-hibrido-nid28112024/)\n",
      "2. Llegó un nuevo sedán a la Argentina: cómo es y qué ofrece (2024-11-28T16:32:18Z) (https://www.lanacion.com.ar/autos/llego-un-nuevo-sedan-a-la-argentina-como-es-y-que-ofrece-nid28112024/)\n",
      "3. Las ventas de autos cero kilómetro cayeron 20,5% en noviembre (2024-11-29T22:44:35Z) (https://www.lanacion.com.ar/economia/las-ventas-de-autos-cero-kilometro-cayeron-205-en-noviembre-nid29112024/)\n",
      "4. Tras tres meses de repunte, volvieron a caer las ventas de autos (2024-11-29T22:26:55Z) (https://www.lanacion.com.ar/autos/tras-tres-meses-de-repunte-volvieron-a-caer-las-ventas-de-autos-nid29112024/)\n",
      "5. Al menos 75 inmuebles en el Centro Histórico son utilizados como bodegas por asiáticos (2024-11-29T08:25:53Z) (https://www.jornada.com.mx/2024/11/29/capital/027n2cap)\n",
      "\n",
      "Procesando noticias con OpenAI...\n",
      "\n",
      "Resultados:\n",
      "1. Qué se siente manejar el Toyota Corolla Cross híbrido\n",
      "   Resumen: El artículo describe la experiencia de manejar el Toyota Corolla Cross híbrido, resaltando su eficiencia y destacando su posición en el segmento de SUVs tras un restyling este año.\n",
      "   Sentimiento: El sentimiento del artículo es Positivo.\n",
      "   Fecha de publicación: 2024-11-28T22:45:28Z\n",
      "   URL: https://www.lanacion.com.ar/autos/que-se-siente-manejar-el-toyota-corolla-cross-hibrido-nid28112024/\n",
      "2. Llegó un nuevo sedán a la Argentina: cómo es y qué ofrece\n",
      "   Resumen: La automotriz china lanzó un nuevo sedán eléctrico en Argentina, sumándose a la creciente oferta de autos importados en el país. El modelo ofrece tecnología eléctrica y se presenta como una opción interesante para los consumidores.\n",
      "   Sentimiento: Positivo\n",
      "   Fecha de publicación: 2024-11-28T16:32:18Z\n",
      "   URL: https://www.lanacion.com.ar/autos/llego-un-nuevo-sedan-a-la-argentina-como-es-y-que-ofrece-nid28112024/\n",
      "3. Las ventas de autos cero kilómetro cayeron 20,5% en noviembre\n",
      "   Resumen: En noviembre, las ventas de autos cero kilómetro cayeron un 20,5% en comparación con el mes anterior. La baja interanual fue del 1,7%, atribuida al menor número de operaciones en ese mes. A pesar de esto, se espera que se comercialicen 400.000 unidades en el año.\n",
      "   Sentimiento: El sentimiento del artículo es Negativo, ya que se menciona la caída del 20,5% en las ventas de autos cero kilómetro en noviembre.\n",
      "   Fecha de publicación: 2024-11-29T22:44:35Z\n",
      "   URL: https://www.lanacion.com.ar/economia/las-ventas-de-autos-cero-kilometro-cayeron-205-en-noviembre-nid29112024/\n",
      "4. Tras tres meses de repunte, volvieron a caer las ventas de autos\n",
      "   Resumen: Las ventas de autos cayeron alrededor del 20% en relación a octubre después de tres meses de repunte. A pesar de la baja, se mantiene el optimismo respecto a los patentamientos para el cierre del año.\n",
      "   Sentimiento: Neutral\n",
      "   Fecha de publicación: 2024-11-29T22:26:55Z\n",
      "   URL: https://www.lanacion.com.ar/autos/tras-tres-meses-de-repunte-volvieron-a-caer-las-ventas-de-autos-nid29112024/\n",
      "5. Al menos 75 inmuebles en el Centro Histórico son utilizados como bodegas por asiáticos\n",
      "   Resumen: En el Centro Histórico de la Ciudad de México se han identificado al menos 75 inmuebles que están siendo utilizados como bodegas, muchos de ellos en edificios rentados por personas de origen asiático. Esta situación ha sido detectada por la Autoridad del Centro Histórico y genera preocupación en la zona.\n",
      "   Sentimiento: El sentimiento del artículo es Neutral.\n",
      "   Fecha de publicación: 2024-11-29T08:25:53Z\n",
      "   URL: https://www.jornada.com.mx/2024/11/29/capital/027n2cap\n"
     ]
    }
   ],
   "source": [
    "# Función para obtener noticias populares de Argentina\n",
    "def obtener_noticias_argentina_populares(tema, numero_resultados=5):\n",
    "    # Rango de los últimos 3 días\n",
    "    fecha_hoy = datetime.now()\n",
    "    fecha_inicio = (fecha_hoy - timedelta(days=3)).strftime('%Y-%m-%d')\n",
    "    fecha_fin = fecha_hoy.strftime('%Y-%m-%d')\n",
    "    \n",
    "    # Endpoint de NewsAPI\n",
    "    url = (\n",
    "        f\"https://newsapi.org/v2/everything?\"\n",
    "        f\"q={tema} AND Argentina&\"\n",
    "        f\"language=es&\"\n",
    "        f\"from={fecha_inicio}&to={fecha_fin}&\"\n",
    "        f\"sortBy=popularity&\"\n",
    "        f\"pageSize={numero_resultados}&\"\n",
    "        f\"apiKey={NEWS_API_KEY}\"\n",
    "    )\n",
    "    \n",
    "    response = requests.get(url)\n",
    "    if response.status_code == 200:\n",
    "        data = response.json()\n",
    "        articulos = data.get(\"articles\", [])\n",
    "        return [(art[\"title\"], art[\"description\"], art[\"url\"], art[\"publishedAt\"]) for art in articulos]\n",
    "    else:\n",
    "        print(f\"Error al obtener noticias: {response.status_code}\")\n",
    "        return []\n",
    "\n",
    "# Función para procesar noticias con OpenAI\n",
    "def procesar_noticias(articulos):\n",
    "    resultados = []\n",
    "    for titulo, descripcion, url, fecha in articulos:\n",
    "        # Prompt para generar un resumen en español\n",
    "        prompt_resumen = f\"\"\"\n",
    "        Título: {titulo}\n",
    "        Descripción: {descripcion}\n",
    "\n",
    "        Por favor, genera un resumen conciso en español del contenido del artículo.\n",
    "        \"\"\"\n",
    "        response_resumen = openai.ChatCompletion.create(\n",
    "            model=\"gpt-3.5-turbo\",\n",
    "            messages=[{\"role\": \"user\", \"content\": prompt_resumen}],\n",
    "            max_tokens=100\n",
    "        )\n",
    "        resumen = response_resumen.choices[0]['message']['content']\n",
    "        \n",
    "        # Prompt para clasificar el sentimiento en español\n",
    "        prompt_sentimiento = f\"\"\"\n",
    "        Título: {titulo}\n",
    "        Resumen: {resumen}\n",
    "\n",
    "        Clasifica el sentimiento del artículo como Positivo, Negativo o Neutral. Responde en español.\n",
    "        \"\"\"\n",
    "        response_sentimiento = openai.ChatCompletion.create(\n",
    "            model=\"gpt-3.5-turbo\",\n",
    "            messages=[{\"role\": \"user\", \"content\": prompt_sentimiento}],\n",
    "            max_tokens=50\n",
    "        )\n",
    "        sentimiento = response_sentimiento.choices[0]['message']['content'].strip()\n",
    "        \n",
    "        resultados.append((titulo, resumen, sentimiento, url, fecha))\n",
    "    return resultados\n",
    "\n",
    "# Main: Integra búsqueda de noticias con procesamiento\n",
    "if __name__ == \"__main__\":\n",
    "    tema = input(\"Introduce el tema de interés: \")\n",
    "    \n",
    "    # Obtener noticias populares de Argentina en español\n",
    "    noticias = obtener_noticias_argentina_populares(tema)\n",
    "    if not noticias:\n",
    "        print(\"No se encontraron noticias.\")\n",
    "    else:\n",
    "        print(\"\\nNoticias encontradas:\")\n",
    "        for idx, (titulo, _, url, fecha) in enumerate(noticias, 1):\n",
    "            print(f\"{idx}. {titulo} ({fecha}) ({url})\")\n",
    "        \n",
    "        # Procesar noticias\n",
    "        print(\"\\nProcesando noticias con OpenAI...\")\n",
    "        resultados = procesar_noticias(noticias)\n",
    "        \n",
    "        # Mostrar resultados\n",
    "        print(\"\\nResultados:\")\n",
    "        for idx, (titulo, resumen, sentimiento, url, fecha) in enumerate(resultados, 1):\n",
    "            print(f\"{idx}. {titulo}\")\n",
    "            print(f\"   Resumen: {resumen}\")\n",
    "            print(f\"   Sentimiento: {sentimiento}\")\n",
    "            print(f\"   Fecha de publicación: {fecha}\")\n",
    "            print(f\"   URL: {url}\")\n"
   ]
  },
  {
   "cell_type": "markdown",
   "id": "d58ecafa-298a-4caf-8c38-9608390b5c59",
   "metadata": {},
   "source": [
    "## 6. Resultados\n",
    "\n",
    "Cada resultado ahora contiene:\n",
    "\n",
    "- **El título del artículo.**\n",
    "- **Un resumen conciso generado por OpenAI.**\n",
    "- **La clasificación del sentimiento.**\n",
    "- **La URL del artículo.**"
   ]
  },
  {
   "cell_type": "code",
   "execution_count": null,
   "id": "ef57e857-ce8b-4552-8288-9d3237b1e1af",
   "metadata": {},
   "outputs": [],
   "source": []
  }
 ],
 "metadata": {
  "kernelspec": {
   "display_name": "Python 3 (ipykernel)",
   "language": "python",
   "name": "python3"
  },
  "language_info": {
   "codemirror_mode": {
    "name": "ipython",
    "version": 3
   },
   "file_extension": ".py",
   "mimetype": "text/x-python",
   "name": "python",
   "nbconvert_exporter": "python",
   "pygments_lexer": "ipython3",
   "version": "3.10.15"
  }
 },
 "nbformat": 4,
 "nbformat_minor": 5
}
